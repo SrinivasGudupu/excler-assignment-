{
 "cells": [
  {
   "cell_type": "code",
   "execution_count": 5,
   "id": "e3bb0399-a299-469f-b3cc-d34fdba96b19",
   "metadata": {},
   "outputs": [
    {
     "name": "stdout",
     "output_type": "stream",
     "text": [
      "Extracted Emails: ['support@example.com', 'sales@example.org']\n"
     ]
    }
   ],
   "source": [
    "import re\n",
    "\n",
    "# Function to extract email addresses\n",
    "def extract_emails(text):\n",
    "    # Regular expression to match email addresses\n",
    "    email_pattern = r'[a-zA-Z0-9._%+-]+@[a-zA-Z0-9.-]+\\.[a-zA-Z]{2,}'\n",
    "    # Find all matching email addresses\n",
    "    emails = re.findall(email_pattern, text)\n",
    "    return emails\n",
    "\n",
    "# Test the function with the given input\n",
    "input_text = 'Contact us at support@example.com and sales@example.org.'\n",
    "extracted_emails = extract_emails(input_text)\n",
    "\n",
    "# Print the extracted email addresses\n",
    "print(\"Extracted Emails:\", extracted_emails)\n"
   ]
  },
  {
   "cell_type": "code",
   "execution_count": null,
   "id": "32255ca8-588e-4590-9a07-01910e9e6f04",
   "metadata": {},
   "outputs": [],
   "source": []
  }
 ],
 "metadata": {
  "kernelspec": {
   "display_name": "Python 3 (ipykernel)",
   "language": "python",
   "name": "python3"
  },
  "language_info": {
   "codemirror_mode": {
    "name": "ipython",
    "version": 3
   },
   "file_extension": ".py",
   "mimetype": "text/x-python",
   "name": "python",
   "nbconvert_exporter": "python",
   "pygments_lexer": "ipython3",
   "version": "3.12.5"
  }
 },
 "nbformat": 4,
 "nbformat_minor": 5
}
