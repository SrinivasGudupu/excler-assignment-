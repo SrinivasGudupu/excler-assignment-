{
 "cells": [
  {
   "cell_type": "code",
   "execution_count": 1,
   "id": "e3bb0399-a299-469f-b3cc-d34fdba96b19",
   "metadata": {},
   "outputs": [
    {
     "name": "stdout",
     "output_type": "stream",
     "text": [
      "Page Title: Example Domain\n"
     ]
    }
   ],
   "source": [
    "import requests\n",
    "from bs4 import BeautifulSoup\n",
    "\n",
    "# Function to fetch and print the title of a webpage\n",
    "def fetch_page_title(url):\n",
    "    # Send a GET request to the URL\n",
    "    response = requests.get(url)\n",
    "    \n",
    "    # Check if the request was successful (status code 200)\n",
    "    if response.status_code == 200:\n",
    "        # Parse the HTML content of the page\n",
    "        soup = BeautifulSoup(response.content, 'html.parser')\n",
    "        \n",
    "        # Find the title tag and extract its text\n",
    "        title = soup.title.string if soup.title else 'No title found'\n",
    "        \n",
    "        return title\n",
    "    else:\n",
    "        return f\"Error: Unable to fetch the webpage. Status code {response.status_code}\"\n",
    "\n",
    "# Test the function with the given URL\n",
    "url = 'https://example.com'\n",
    "page_title = fetch_page_title(url)\n",
    "\n",
    "# Print the title of the webpage\n",
    "print(\"Page Title:\", page_title)\n"
   ]
  },
  {
   "cell_type": "code",
   "execution_count": null,
   "id": "32255ca8-588e-4590-9a07-01910e9e6f04",
   "metadata": {},
   "outputs": [],
   "source": []
  }
 ],
 "metadata": {
  "kernelspec": {
   "display_name": "Python 3 (ipykernel)",
   "language": "python",
   "name": "python3"
  },
  "language_info": {
   "codemirror_mode": {
    "name": "ipython",
    "version": 3
   },
   "file_extension": ".py",
   "mimetype": "text/x-python",
   "name": "python",
   "nbconvert_exporter": "python",
   "pygments_lexer": "ipython3",
   "version": "3.12.5"
  }
 },
 "nbformat": 4,
 "nbformat_minor": 5
}
