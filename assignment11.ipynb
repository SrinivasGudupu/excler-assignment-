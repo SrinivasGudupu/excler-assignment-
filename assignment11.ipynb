{
 "cells": [
  {
   "cell_type": "code",
   "execution_count": null,
   "id": "e3bb0399-a299-469f-b3cc-d34fdba96b19",
   "metadata": {},
   "outputs": [],
   "source": [
    "import nltk\n",
    "from nltk.tokenize import word_tokenize, sent_tokenize\n",
    "\n",
    "# Ensure necessary resources are downloaded\n",
    "nltk.download('punkt')\n",
    "\n",
    "# Sample paragraph\n",
    "text = \"\"\"\n",
    "Natural language processing (NLP) is a field of artificial intelligence that focuses on the interaction between computers and human language. \n",
    "It involves tasks such as tokenization, stemming, lemmatization, and stopword removal. NLP is an exciting field that bridges the gap between humans and machines.\n",
    "\"\"\"\n",
    "\n",
    "# Tokenize the paragraph into sentences\n",
    "sentences = sent_tokenize(text)\n",
    "print(\"Sentences Tokenized:\")\n",
    "for sentence in sentences:\n",
    "    print(sentence)\n",
    "\n",
    "# Tokenize the paragraph into words\n",
    "words = word_tokenize(text)\n",
    "print(\"\\nWords Tokenized:\")\n",
    "print(words)\n"
   ]
  },
  {
   "cell_type": "code",
   "execution_count": null,
   "id": "32255ca8-588e-4590-9a07-01910e9e6f04",
   "metadata": {},
   "outputs": [],
   "source": []
  }
 ],
 "metadata": {
  "kernelspec": {
   "display_name": "Python 3 (ipykernel)",
   "language": "python",
   "name": "python3"
  },
  "language_info": {
   "codemirror_mode": {
    "name": "ipython",
    "version": 3
   },
   "file_extension": ".py",
   "mimetype": "text/x-python",
   "name": "python",
   "nbconvert_exporter": "python",
   "pygments_lexer": "ipython3",
   "version": "3.12.5"
  }
 },
 "nbformat": 4,
 "nbformat_minor": 5
}
