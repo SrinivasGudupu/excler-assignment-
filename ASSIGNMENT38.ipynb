{
 "cells": [
  {
   "cell_type": "code",
   "execution_count": 4,
   "id": "f27eb7e2-7827-4778-9f06-925d92c104d1",
   "metadata": {},
   "outputs": [
    {
     "name": "stdout",
     "output_type": "stream",
     "text": [
      "Bag of Words Representation:\n",
      "   amazing  great  is  learning  love  machine  programming  python\n",
      "0        0      0   0         0     1        0            1       0\n",
      "1        0      1   1         0     0        0            0       1\n",
      "2        1      0   1         1     0        1            0       0\n",
      "\n",
      "TF-IDF Representation:\n",
      "    amazing     great       is  learning      love   machine  programming  \\\n",
      "0  0.000000  0.000000  0.00000  0.000000  0.707107  0.000000     0.707107   \n",
      "1  0.000000  0.622766  0.47363  0.000000  0.000000  0.000000     0.000000   \n",
      "2  0.528635  0.000000  0.40204  0.528635  0.000000  0.528635     0.000000   \n",
      "\n",
      "     python  \n",
      "0  0.000000  \n",
      "1  0.622766  \n",
      "2  0.000000  \n",
      "\n",
      "Predicted Category (Naïve Bayes): python\n",
      "\n",
      "Predicted Category (Decision Tree): spam\n"
     ]
    }
   ],
   "source": [
    "from sklearn.feature_extraction.text import CountVectorizer, TfidfVectorizer\n",
    "from sklearn.naive_bayes import MultinomialNB\n",
    "from sklearn.tree import DecisionTreeClassifier\n",
    "from sklearn.pipeline import make_pipeline\n",
    "import pandas as pd\n",
    "\n",
    "def bag_of_words(texts):\n",
    "    vectorizer = CountVectorizer()\n",
    "    bow_matrix = vectorizer.fit_transform(texts)\n",
    "    feature_names = vectorizer.get_feature_names_out()\n",
    "    return pd.DataFrame(bow_matrix.toarray(), columns=feature_names)\n",
    "\n",
    "def tfidf_representation(texts):\n",
    "    vectorizer = TfidfVectorizer()\n",
    "    tfidf_matrix = vectorizer.fit_transform(texts)\n",
    "    feature_names = vectorizer.get_feature_names_out()\n",
    "    return pd.DataFrame(tfidf_matrix.toarray(), columns=feature_names)\n",
    "\n",
    "def train_naive_bayes_classifier(texts, labels):\n",
    "    model = make_pipeline(CountVectorizer(), MultinomialNB())\n",
    "    model.fit(texts, labels)\n",
    "    return model\n",
    "\n",
    "def train_decision_tree_classifier(texts, labels):\n",
    "    model = make_pipeline(TfidfVectorizer(), DecisionTreeClassifier())\n",
    "    model.fit(texts, labels)\n",
    "    return model\n",
    "\n",
    "def predict_category(model, new_text):\n",
    "    return model.predict([new_text])[0]\n",
    "\n",
    "if __name__ == \"__main__\":\n",
    "    texts = [\"I love programming\", \"Python is great\", \"Machine learning is amazing\"]\n",
    "    labels = [\"programming\", \"python\", \"machine learning\"]\n",
    "    \n",
    "    dt_texts = [\"Spam messages are annoying\", \"I won a lottery\", \"This is a normal message\"]\n",
    "    dt_labels = [\"spam\", \"spam\", \"normal\"]\n",
    "    \n",
    "    nb_model = train_naive_bayes_classifier(texts, labels)\n",
    "    dt_model = train_decision_tree_classifier(dt_texts, dt_labels)\n",
    "    \n",
    "    new_text = \"I enjoy coding in Python\"\n",
    "    nb_prediction = predict_category(nb_model, new_text)\n",
    "    \n",
    "    new_dt_text = \"You have won a free prize!\"\n",
    "    dt_prediction = predict_category(dt_model, new_dt_text)\n",
    "    \n",
    "    print(\"Bag of Words Representation:\")\n",
    "    print(bag_of_words(texts))\n",
    "    \n",
    "    print(\"\\nTF-IDF Representation:\")\n",
    "    print(tfidf_representation(texts))\n",
    "    \n",
    "    print(\"\\nPredicted Category (Naïve Bayes):\", nb_prediction)\n",
    "    print(\"\\nPredicted Category (Decision Tree):\", dt_prediction)\n"
   ]
  },
  {
   "cell_type": "code",
   "execution_count": null,
   "id": "dcb5d489-64bd-4d64-96ee-2eb2657c069c",
   "metadata": {},
   "outputs": [],
   "source": []
  }
 ],
 "metadata": {
  "kernelspec": {
   "display_name": "Python 3 (ipykernel)",
   "language": "python",
   "name": "python3"
  },
  "language_info": {
   "codemirror_mode": {
    "name": "ipython",
    "version": 3
   },
   "file_extension": ".py",
   "mimetype": "text/x-python",
   "name": "python",
   "nbconvert_exporter": "python",
   "pygments_lexer": "ipython3",
   "version": "3.12.5"
  }
 },
 "nbformat": 4,
 "nbformat_minor": 5
}
