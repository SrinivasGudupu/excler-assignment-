{
 "cells": [
  {
   "cell_type": "code",
   "execution_count": 1,
   "id": "f27eb7e2-7827-4778-9f06-925d92c104d1",
   "metadata": {},
   "outputs": [
    {
     "name": "stdout",
     "output_type": "stream",
     "text": [
      "Bag of Words Representation:\n",
      "   amazing  deep  fun  is  learning  love  machine\n",
      "0        0     0    0   0         1     1        1\n",
      "1        0     0    1   1         1     0        1\n",
      "2        1     1    0   1         1     0        0\n",
      "\n",
      "TF-IDF Representation:\n",
      "    amazing      deep       fun        is  learning      love   machine\n",
      "0  0.000000  0.000000  0.000000  0.000000  0.425441  0.720333  0.547832\n",
      "1  0.000000  0.000000  0.631745  0.480458  0.373119  0.000000  0.480458\n",
      "2  0.584483  0.584483  0.000000  0.444514  0.345205  0.000000  0.000000\n"
     ]
    }
   ],
   "source": [
    "from sklearn.feature_extraction.text import CountVectorizer, TfidfVectorizer\n",
    "import pandas as pd\n",
    "\n",
    "def bag_of_words(texts):\n",
    "    vectorizer = CountVectorizer()\n",
    "    bow_matrix = vectorizer.fit_transform(texts)\n",
    "    feature_names = vectorizer.get_feature_names_out()\n",
    "    return pd.DataFrame(bow_matrix.toarray(), columns=feature_names)\n",
    "\n",
    "def tfidf_representation(texts):\n",
    "    vectorizer = TfidfVectorizer()\n",
    "    tfidf_matrix = vectorizer.fit_transform(texts)\n",
    "    feature_names = vectorizer.get_feature_names_out()\n",
    "    return pd.DataFrame(tfidf_matrix.toarray(), columns=feature_names)\n",
    "\n",
    "if __name__ == \"__main__\":\n",
    "    texts = [\"I love machine learning\", \"Machine learning is fun\", \"Deep learning is amazing\"]\n",
    "    \n",
    "    print(\"Bag of Words Representation:\")\n",
    "    print(bag_of_words(texts))\n",
    "    \n",
    "    print(\"\\nTF-IDF Representation:\")\n",
    "    print(tfidf_representation(texts))\n"
   ]
  },
  {
   "cell_type": "code",
   "execution_count": null,
   "id": "dcb5d489-64bd-4d64-96ee-2eb2657c069c",
   "metadata": {},
   "outputs": [],
   "source": []
  }
 ],
 "metadata": {
  "kernelspec": {
   "display_name": "Python 3 (ipykernel)",
   "language": "python",
   "name": "python3"
  },
  "language_info": {
   "codemirror_mode": {
    "name": "ipython",
    "version": 3
   },
   "file_extension": ".py",
   "mimetype": "text/x-python",
   "name": "python",
   "nbconvert_exporter": "python",
   "pygments_lexer": "ipython3",
   "version": "3.12.5"
  }
 },
 "nbformat": 4,
 "nbformat_minor": 5
}
