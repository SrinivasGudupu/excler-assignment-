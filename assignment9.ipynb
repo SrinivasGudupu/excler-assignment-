{
 "cells": [
  {
   "cell_type": "code",
   "execution_count": null,
   "id": "2a3b60b7-ab21-4573-9e18-6790a9dfb4ae",
   "metadata": {},
   "outputs": [],
   "source": [
    "!pip install gensim nltk spacy"
   ]
  },
  {
   "cell_type": "code",
   "execution_count": null,
   "id": "e3bb0399-a299-469f-b3cc-d34fdba96b19",
   "metadata": {},
   "outputs": [],
   "source": [
    "import nltk\n",
    "import gensim\n",
    "from nltk.tokenize import word_tokenize\n",
    "from nltk.stem import PorterStemmer\n",
    "from nltk.corpus import stopwords\n",
    "from nltk.stem import WordNetLemmatizer\n",
    "import spacy\n",
    "from gensim.utils import simple_preprocess\n",
    "\n",
    "# Download necessary NLTK resources\n",
    "nltk.download('punkt')\n",
    "nltk.download('stopwords')\n",
    "nltk.download('wordnet')\n",
    "\n",
    "# Load spaCy model (English)\n",
    "nlp = spacy.load(\"en_core_web_sm\")\n",
    "\n",
    "# Function to load and preprocess the text\n",
    "def preprocess_text(file_path):\n",
    "    # Step 1: Load the text file\n",
    "    with open(file_path, 'r') as file:\n",
    "        text = file.read().lower()  # Convert text to lowercase for consistency\n",
    "    \n",
    "    # Step 2: Tokenization using Gensim's simple_preprocess (it also removes punctuations)\n",
    "    tokenized_text = simple_preprocess(text)\n",
    "    \n",
    "    # Step 3: Remove stopwords using NLTK\n",
    "    stop_words = set(stopwords.words('english'))\n",
    "    filtered_tokens = [word for word in tokenized_text if word not in stop_words]\n",
    "    \n",
    "    # Step 4: Stemming using NLTK's PorterStemmer\n",
    "    stemmer = PorterStemmer()\n",
    "    stemmed_tokens = [stemmer.stem(word) for word in filtered_tokens]\n",
    "    \n",
    "    # Step 5: Lemmatization using spaCy\n",
    "    doc = nlp(\" \".join(stemmed_tokens))\n",
    "    lemmatized_tokens = [token.lemma_ for token in doc]\n",
    "    \n",
    "    return lemmatized_tokens\n",
    "\n",
    "# Sample file path\n",
    "file_path = 'sample.txt'  # Replace with your file path\n",
    "\n",
    "# Preprocess the text\n",
    "preprocessed_text = preprocess_text(file_path)\n",
    "\n",
    "# Print the preprocessed tokens\n",
    "print(\"Preprocessed Tokens:\")\n",
    "print(preprocessed_text)\n"
   ]
  }
 ],
 "metadata": {
  "kernelspec": {
   "display_name": "Python 3 (ipykernel)",
   "language": "python",
   "name": "python3"
  },
  "language_info": {
   "codemirror_mode": {
    "name": "ipython",
    "version": 3
   },
   "file_extension": ".py",
   "mimetype": "text/x-python",
   "name": "python",
   "nbconvert_exporter": "python",
   "pygments_lexer": "ipython3",
   "version": "3.12.5"
  }
 },
 "nbformat": 4,
 "nbformat_minor": 5
}
